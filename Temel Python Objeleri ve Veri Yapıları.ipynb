{
 "cells": [
  {
   "cell_type": "code",
   "execution_count": 1,
   "id": "faeadd4a",
   "metadata": {},
   "outputs": [
    {
     "name": "stdout",
     "output_type": "stream",
     "text": [
      "dfgdfg\n"
     ]
    }
   ],
   "source": [
    "print (\"dfgdfg\")"
   ]
  },
  {
   "cell_type": "code",
   "execution_count": 2,
   "id": "98e2dbd4",
   "metadata": {},
   "outputs": [],
   "source": [
    "a = 2"
   ]
  },
  {
   "cell_type": "code",
   "execution_count": 3,
   "id": "65e18778",
   "metadata": {},
   "outputs": [
    {
     "name": "stdout",
     "output_type": "stream",
     "text": [
      "8\n"
     ]
    }
   ],
   "source": [
    "print(a*a*a)"
   ]
  },
  {
   "cell_type": "code",
   "execution_count": 4,
   "id": "fce2aa27",
   "metadata": {},
   "outputs": [],
   "source": [
    "a=5"
   ]
  },
  {
   "cell_type": "code",
   "execution_count": 5,
   "id": "e8d93c83",
   "metadata": {},
   "outputs": [],
   "source": [
    "b=6"
   ]
  },
  {
   "cell_type": "code",
   "execution_count": 6,
   "id": "5c253354",
   "metadata": {},
   "outputs": [],
   "source": [
    "a +=1"
   ]
  },
  {
   "cell_type": "code",
   "execution_count": 7,
   "id": "b62acace",
   "metadata": {},
   "outputs": [],
   "source": [
    "b-=2"
   ]
  },
  {
   "cell_type": "code",
   "execution_count": 8,
   "id": "d4c30957",
   "metadata": {},
   "outputs": [],
   "source": [
    "c=a+2*b"
   ]
  },
  {
   "cell_type": "code",
   "execution_count": 9,
   "id": "eb97847d",
   "metadata": {},
   "outputs": [
    {
     "name": "stdout",
     "output_type": "stream",
     "text": [
      "14\n"
     ]
    }
   ],
   "source": [
    "print(c)"
   ]
  },
  {
   "cell_type": "code",
   "execution_count": 10,
   "id": "6482171a",
   "metadata": {},
   "outputs": [],
   "source": [
    "a=((10**2)//3)/3"
   ]
  },
  {
   "cell_type": "code",
   "execution_count": 11,
   "id": "33d55633",
   "metadata": {},
   "outputs": [
    {
     "name": "stdout",
     "output_type": "stream",
     "text": [
      "11.0\n"
     ]
    }
   ],
   "source": [
    "print(a)"
   ]
  },
  {
   "cell_type": "code",
   "execution_count": 12,
   "id": "cb836936",
   "metadata": {},
   "outputs": [],
   "source": [
    "a=\"Python\""
   ]
  },
  {
   "cell_type": "code",
   "execution_count": 13,
   "id": "4dc36035",
   "metadata": {},
   "outputs": [
    {
     "data": {
      "text/plain": [
       "'y'"
      ]
     },
     "execution_count": 13,
     "metadata": {},
     "output_type": "execute_result"
    }
   ],
   "source": [
    "a[1]"
   ]
  },
  {
   "cell_type": "code",
   "execution_count": 14,
   "id": "8316c3ef",
   "metadata": {},
   "outputs": [],
   "source": [
    "a=\"Python Programlama dili\""
   ]
  },
  {
   "cell_type": "code",
   "execution_count": 15,
   "id": "72c8a3cb",
   "metadata": {},
   "outputs": [
    {
     "data": {
      "text/plain": [
       "'on Pro'"
      ]
     },
     "execution_count": 15,
     "metadata": {},
     "output_type": "execute_result"
    }
   ],
   "source": [
    "a[4:10]"
   ]
  },
  {
   "cell_type": "code",
   "execution_count": 16,
   "id": "31928d58",
   "metadata": {},
   "outputs": [],
   "source": [
    "a=\"Python\""
   ]
  },
  {
   "cell_type": "code",
   "execution_count": 17,
   "id": "094477c8",
   "metadata": {},
   "outputs": [
    {
     "ename": "TypeError",
     "evalue": "'str' object does not support item assignment",
     "output_type": "error",
     "traceback": [
      "\u001b[0;31m---------------------------------------------------------------------------\u001b[0m",
      "\u001b[0;31mTypeError\u001b[0m                                 Traceback (most recent call last)",
      "Input \u001b[0;32mIn [17]\u001b[0m, in \u001b[0;36m<cell line: 1>\u001b[0;34m()\u001b[0m\n\u001b[0;32m----> 1\u001b[0m a[\u001b[38;5;241m0\u001b[39m]\u001b[38;5;241m=\u001b[39m\u001b[38;5;124m'\u001b[39m\u001b[38;5;124mC\u001b[39m\u001b[38;5;124m'\u001b[39m\n",
      "\u001b[0;31mTypeError\u001b[0m: 'str' object does not support item assignment"
     ]
    }
   ],
   "source": [
    "a[0]='C'"
   ]
  },
  {
   "cell_type": "code",
   "execution_count": 18,
   "id": "98a45f4d",
   "metadata": {},
   "outputs": [],
   "source": [
    "a=\"3.1444545\""
   ]
  },
  {
   "cell_type": "code",
   "execution_count": 19,
   "id": "453e5641",
   "metadata": {},
   "outputs": [],
   "source": [
    "b=float(a)"
   ]
  },
  {
   "cell_type": "code",
   "execution_count": 20,
   "id": "52a29fd1",
   "metadata": {},
   "outputs": [
    {
     "name": "stdout",
     "output_type": "stream",
     "text": [
      "3.1444545\n"
     ]
    }
   ],
   "source": [
    "print(b)"
   ]
  },
  {
   "cell_type": "code",
   "execution_count": 21,
   "id": "7f5110e2",
   "metadata": {},
   "outputs": [
    {
     "name": "stdout",
     "output_type": "stream",
     "text": [
      "Merhaba\n",
      "Nasılsın\n",
      "İyi misin?\n"
     ]
    }
   ],
   "source": [
    "print(\"Merhaba\\nNasılsın\\nİyi misin?\")"
   ]
  },
  {
   "cell_type": "code",
   "execution_count": 22,
   "id": "fa2ed464",
   "metadata": {},
   "outputs": [
    {
     "name": "stdout",
     "output_type": "stream",
     "text": [
      "Gökhan 24 61\n"
     ]
    }
   ],
   "source": [
    "print(\"{1} {0} {2}\".format(24,\"Gökhan\",61))"
   ]
  },
  {
   "cell_type": "code",
   "execution_count": 23,
   "id": "aa5df1eb",
   "metadata": {},
   "outputs": [],
   "source": [
    "list = [5,6,7,8]"
   ]
  },
  {
   "cell_type": "code",
   "execution_count": 24,
   "id": "628104ad",
   "metadata": {},
   "outputs": [],
   "source": [
    "list = list + [\"Gökhan\"]"
   ]
  },
  {
   "cell_type": "code",
   "execution_count": 25,
   "id": "f137f8fb",
   "metadata": {},
   "outputs": [
    {
     "name": "stdout",
     "output_type": "stream",
     "text": [
      "[5, 6, 7, 8, 'Gökhan']\n"
     ]
    }
   ],
   "source": [
    "print(list)"
   ]
  },
  {
   "cell_type": "code",
   "execution_count": 26,
   "id": "d69cd989",
   "metadata": {},
   "outputs": [
    {
     "data": {
      "text/plain": [
       "[5, 6, 7, 8, 'Gökhan', 5, 6, 7, 8, 'Gökhan', 5, 6, 7, 8, 'Gökhan']"
      ]
     },
     "execution_count": 26,
     "metadata": {},
     "output_type": "execute_result"
    }
   ],
   "source": [
    "list *3"
   ]
  },
  {
   "cell_type": "code",
   "execution_count": 27,
   "id": "90bacf1c",
   "metadata": {},
   "outputs": [
    {
     "name": "stdout",
     "output_type": "stream",
     "text": [
      "[5, 6, 7, 8, 'Gökhan']\n"
     ]
    }
   ],
   "source": [
    "print(list)"
   ]
  },
  {
   "cell_type": "code",
   "execution_count": 1,
   "id": "923cbd3e",
   "metadata": {},
   "outputs": [],
   "source": [
    "demet = (1,2,3,4,5)"
   ]
  },
  {
   "cell_type": "code",
   "execution_count": 2,
   "id": "a357b254",
   "metadata": {},
   "outputs": [
    {
     "data": {
      "text/plain": [
       "tuple"
      ]
     },
     "execution_count": 2,
     "metadata": {},
     "output_type": "execute_result"
    }
   ],
   "source": [
    "type(demet)"
   ]
  },
  {
   "cell_type": "code",
   "execution_count": 3,
   "id": "31ee8093",
   "metadata": {},
   "outputs": [
    {
     "data": {
      "text/plain": [
       "5"
      ]
     },
     "execution_count": 3,
     "metadata": {},
     "output_type": "execute_result"
    }
   ],
   "source": [
    "demet[4]"
   ]
  },
  {
   "cell_type": "code",
   "execution_count": 4,
   "id": "a57b6cf9",
   "metadata": {},
   "outputs": [
    {
     "data": {
      "text/plain": [
       "5"
      ]
     },
     "execution_count": 4,
     "metadata": {},
     "output_type": "execute_result"
    }
   ],
   "source": [
    "demet[-1]"
   ]
  },
  {
   "cell_type": "code",
   "execution_count": 5,
   "id": "72c15030",
   "metadata": {},
   "outputs": [
    {
     "data": {
      "text/plain": [
       "(1, 2, 3, 4)"
      ]
     },
     "execution_count": 5,
     "metadata": {},
     "output_type": "execute_result"
    }
   ],
   "source": [
    "demet[:4]"
   ]
  },
  {
   "cell_type": "code",
   "execution_count": 6,
   "id": "d8ec1858",
   "metadata": {},
   "outputs": [
    {
     "data": {
      "text/plain": [
       "(5, 4, 3, 2, 1)"
      ]
     },
     "execution_count": 6,
     "metadata": {},
     "output_type": "execute_result"
    }
   ],
   "source": [
    "demet[::-1]"
   ]
  },
  {
   "cell_type": "code",
   "execution_count": 7,
   "id": "a74799ae",
   "metadata": {},
   "outputs": [],
   "source": [
    "demet2=(1,1,1,1,2,4,5)"
   ]
  },
  {
   "cell_type": "code",
   "execution_count": 8,
   "id": "2252548f",
   "metadata": {},
   "outputs": [
    {
     "data": {
      "text/plain": [
       "4"
      ]
     },
     "execution_count": 8,
     "metadata": {},
     "output_type": "execute_result"
    }
   ],
   "source": [
    "demet2.count(1)"
   ]
  },
  {
   "cell_type": "code",
   "execution_count": 9,
   "id": "9937c8f7",
   "metadata": {},
   "outputs": [
    {
     "data": {
      "text/plain": [
       "1"
      ]
     },
     "execution_count": 9,
     "metadata": {},
     "output_type": "execute_result"
    }
   ],
   "source": [
    "demet2.count(5)"
   ]
  },
  {
   "cell_type": "code",
   "execution_count": 10,
   "id": "27d7bda1",
   "metadata": {},
   "outputs": [
    {
     "data": {
      "text/plain": [
       "0"
      ]
     },
     "execution_count": 10,
     "metadata": {},
     "output_type": "execute_result"
    }
   ],
   "source": [
    "demet2.count(10)"
   ]
  },
  {
   "cell_type": "code",
   "execution_count": 11,
   "id": "2f5a6431",
   "metadata": {},
   "outputs": [],
   "source": [
    "demet3=(\"Python\",\"php\",\"C\",\"Java\")"
   ]
  },
  {
   "cell_type": "code",
   "execution_count": 12,
   "id": "e60d1ec0",
   "metadata": {},
   "outputs": [
    {
     "data": {
      "text/plain": [
       "0"
      ]
     },
     "execution_count": 12,
     "metadata": {},
     "output_type": "execute_result"
    }
   ],
   "source": [
    "demet3.index(\"Python\")"
   ]
  },
  {
   "cell_type": "code",
   "execution_count": 14,
   "id": "e3e81f04",
   "metadata": {},
   "outputs": [
    {
     "data": {
      "text/plain": [
       "2"
      ]
     },
     "execution_count": 14,
     "metadata": {},
     "output_type": "execute_result"
    }
   ],
   "source": [
    "demet3.index(\"C\")"
   ]
  },
  {
   "cell_type": "code",
   "execution_count": 15,
   "id": "4e38c9df",
   "metadata": {},
   "outputs": [
    {
     "ename": "ValueError",
     "evalue": "tuple.index(x): x not in tuple",
     "output_type": "error",
     "traceback": [
      "\u001b[0;31m---------------------------------------------------------------------------\u001b[0m",
      "\u001b[0;31mValueError\u001b[0m                                Traceback (most recent call last)",
      "Input \u001b[0;32mIn [15]\u001b[0m, in \u001b[0;36m<cell line: 1>\u001b[0;34m()\u001b[0m\n\u001b[0;32m----> 1\u001b[0m \u001b[43mdemet3\u001b[49m\u001b[38;5;241;43m.\u001b[39;49m\u001b[43mindex\u001b[49m\u001b[43m(\u001b[49m\u001b[38;5;124;43m\"\u001b[39;49m\u001b[38;5;124;43masdsf\u001b[39;49m\u001b[38;5;124;43m\"\u001b[39;49m\u001b[43m)\u001b[49m\n",
      "\u001b[0;31mValueError\u001b[0m: tuple.index(x): x not in tuple"
     ]
    }
   ],
   "source": [
    "demet3.index(\"asdsf\")"
   ]
  },
  {
   "cell_type": "code",
   "execution_count": 16,
   "id": "ccf3b72d",
   "metadata": {},
   "outputs": [],
   "source": [
    "demet=(1,2,3,4,5)"
   ]
  },
  {
   "cell_type": "code",
   "execution_count": 18,
   "id": "2c975f21",
   "metadata": {},
   "outputs": [
    {
     "ename": "TypeError",
     "evalue": "'tuple' object does not support item assignment",
     "output_type": "error",
     "traceback": [
      "\u001b[0;31m---------------------------------------------------------------------------\u001b[0m",
      "\u001b[0;31mTypeError\u001b[0m                                 Traceback (most recent call last)",
      "Input \u001b[0;32mIn [18]\u001b[0m, in \u001b[0;36m<cell line: 1>\u001b[0;34m()\u001b[0m\n\u001b[0;32m----> 1\u001b[0m demet[\u001b[38;5;241m-\u001b[39m\u001b[38;5;241m1\u001b[39m]\u001b[38;5;241m=\u001b[39m\u001b[38;5;241m10\u001b[39m\n",
      "\u001b[0;31mTypeError\u001b[0m: 'tuple' object does not support item assignment"
     ]
    }
   ],
   "source": [
    "demet[-1]=10"
   ]
  },
  {
   "cell_type": "code",
   "execution_count": 19,
   "id": "c6b15889",
   "metadata": {},
   "outputs": [
    {
     "ename": "AttributeError",
     "evalue": "'tuple' object has no attribute 'remove'",
     "output_type": "error",
     "traceback": [
      "\u001b[0;31m---------------------------------------------------------------------------\u001b[0m",
      "\u001b[0;31mAttributeError\u001b[0m                            Traceback (most recent call last)",
      "Input \u001b[0;32mIn [19]\u001b[0m, in \u001b[0;36m<cell line: 1>\u001b[0;34m()\u001b[0m\n\u001b[0;32m----> 1\u001b[0m \u001b[43mdemet\u001b[49m\u001b[38;5;241;43m.\u001b[39;49m\u001b[43mremove\u001b[49m(\u001b[38;5;124m\"\u001b[39m\u001b[38;5;124m1\u001b[39m\u001b[38;5;124m\"\u001b[39m)\n",
      "\u001b[0;31mAttributeError\u001b[0m: 'tuple' object has no attribute 'remove'"
     ]
    }
   ],
   "source": [
    "demet.remove(\"1\")"
   ]
  },
  {
   "cell_type": "code",
   "execution_count": 20,
   "id": "334a5802",
   "metadata": {},
   "outputs": [
    {
     "name": "stdout",
     "output_type": "stream",
     "text": [
      "birinci sayı4\n"
     ]
    }
   ],
   "source": [
    "a=input(\"birinci sayı\")"
   ]
  },
  {
   "cell_type": "code",
   "execution_count": 21,
   "id": "73ae2b7a",
   "metadata": {},
   "outputs": [
    {
     "name": "stdout",
     "output_type": "stream",
     "text": [
      "ikinci sayı3\n"
     ]
    }
   ],
   "source": [
    "b=input(\"ikinci sayı\")"
   ]
  },
  {
   "cell_type": "code",
   "execution_count": 22,
   "id": "f49ca664",
   "metadata": {},
   "outputs": [
    {
     "name": "stdout",
     "output_type": "stream",
     "text": [
      "üçünsü sayı2\n"
     ]
    }
   ],
   "source": [
    "c=input(\"üçünsü sayı\")"
   ]
  },
  {
   "cell_type": "code",
   "execution_count": 23,
   "id": "0d5b76a4",
   "metadata": {},
   "outputs": [
    {
     "name": "stdout",
     "output_type": "stream",
     "text": [
      "toplams ayıe 432\n"
     ]
    }
   ],
   "source": [
    "print(\"toplams ayıe\" , a+b+c)"
   ]
  },
  {
   "cell_type": "code",
   "execution_count": null,
   "id": "7d14311e",
   "metadata": {},
   "outputs": [],
   "source": [
    "Kullanıcıdan aldığınız 3 tane sayıyı çarparak ekrana yazdırın. Ekrana yazdırma işlemini format metoduyla yapmaya çalışın."
   ]
  },
  {
   "cell_type": "code",
   "execution_count": 24,
   "id": "df487f09",
   "metadata": {},
   "outputs": [
    {
     "name": "stdout",
     "output_type": "stream",
     "text": [
      "1.sayı: 3\n"
     ]
    }
   ],
   "source": [
    "a = int(input(\"1.sayı: \"))"
   ]
  },
  {
   "cell_type": "code",
   "execution_count": 25,
   "id": "c8812921",
   "metadata": {},
   "outputs": [
    {
     "name": "stdout",
     "output_type": "stream",
     "text": [
      "2.sayı: 4\n"
     ]
    }
   ],
   "source": [
    "b = int(input(\"2.sayı: \"))"
   ]
  },
  {
   "cell_type": "code",
   "execution_count": 28,
   "id": "af416bf6",
   "metadata": {},
   "outputs": [
    {
     "name": "stdout",
     "output_type": "stream",
     "text": [
      "3.sayı: 5\n"
     ]
    }
   ],
   "source": [
    "c = int(input(\"3.sayı: \"))"
   ]
  },
  {
   "cell_type": "code",
   "execution_count": 29,
   "id": "cd6805cd",
   "metadata": {},
   "outputs": [
    {
     "name": "stdout",
     "output_type": "stream",
     "text": [
      "1.sayı 3\n",
      "2.sayı 4\n",
      "3.sayı 5\n",
      "sonuc: 60\n",
      "\n"
     ]
    }
   ],
   "source": [
    "sonuc=a*b*c\n",
    "print(\"1.sayı {}\\n2.sayı {}\\n3.sayı {}\\nsonuc: {}\\n\".format(a,b,c,sonuc))"
   ]
  },
  {
   "cell_type": "code",
   "execution_count": null,
   "id": "f0f55b73",
   "metadata": {},
   "outputs": [],
   "source": []
  }
 ],
 "metadata": {
  "kernelspec": {
   "display_name": "Python 3 (ipykernel)",
   "language": "python",
   "name": "python3"
  },
  "language_info": {
   "codemirror_mode": {
    "name": "ipython",
    "version": 3
   },
   "file_extension": ".py",
   "mimetype": "text/x-python",
   "name": "python",
   "nbconvert_exporter": "python",
   "pygments_lexer": "ipython3",
   "version": "3.9.12"
  }
 },
 "nbformat": 4,
 "nbformat_minor": 5
}
